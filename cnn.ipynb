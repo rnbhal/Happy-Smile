{
 "cells": [
  {
   "cell_type": "code",
   "execution_count": 875,
   "metadata": {},
   "outputs": [],
   "source": [
    "import numpy as np\n",
    "import h5py\n",
    "import torch\n",
    "import torch.nn as nn\n",
    "import torch.optim as optim\n",
    "from torch.autograd import Variable\n",
    "from torch.utils.data import DataLoader,sampler,Dataset\n",
    "import torchvision.datasets as dset\n",
    "import torchvision.transforms as T"
   ]
  },
  {
   "cell_type": "code",
   "execution_count": 876,
   "metadata": {},
   "outputs": [],
   "source": [
    "train_size = 540\n",
    "val_size = 60\n",
    "total = 600"
   ]
  },
  {
   "cell_type": "code",
   "execution_count": 877,
   "metadata": {},
   "outputs": [],
   "source": [
    "def load_dataset():\n",
    "    train_dataset = h5py.File(\"happy-house-dataset/train_happy.h5\",'r+')\n",
    "    test_dataset = h5py.File(\"happy-house-dataset/test_happy.h5\",'r+')\n",
    "\n",
    "#     trD = np.array(train_dataset[\"train_set_x\"][0:train_size])\n",
    "#     trY = np.array(train_dataset[\"train_set_y\"][0:train_size])\n",
    "    trD = np.array(train_dataset[\"train_set_x\"][:])\n",
    "    trY = np.array(train_dataset[\"train_set_y\"][:])\n",
    "    \n",
    "    valD = np.array(train_dataset[\"train_set_x\"][train_size:total])\n",
    "    valY = np.array(train_dataset[\"train_set_y\"][train_size:total])\n",
    "\n",
    "    tstD = np.array(test_dataset[\"test_set_x\"][:])\n",
    "    tstY = np.array(test_dataset[\"test_set_y\"][:])\n",
    "    \n",
    "    return trD, trY, valD, valY, tstD, tstY\n"
   ]
  },
  {
   "cell_type": "code",
   "execution_count": 878,
   "metadata": {},
   "outputs": [
    {
     "name": "stdout",
     "output_type": "stream",
     "text": [
      "(600, 64, 64, 3)\n",
      "(600,)\n",
      "(60, 64, 64, 3)\n",
      "(60,)\n",
      "(150,)\n",
      "(150, 64, 64, 3)\n"
     ]
    }
   ],
   "source": [
    "trD, trY, valD, valY, tstD, tstY = load_dataset()\n",
    "\n",
    "print(trD.shape)\n",
    "print(trY.shape)\n",
    "\n",
    "print(valD.shape)\n",
    "print(valY.shape)\n",
    "\n",
    "print(tstY.shape)\n",
    "print(tstD.shape)"
   ]
  },
  {
   "cell_type": "code",
   "execution_count": 895,
   "metadata": {},
   "outputs": [],
   "source": [
    "class HappyDataset(Dataset):\n",
    "    \"\"\"Happy dataset.\"\"\"\n",
    "\n",
    "    def __init__(self, trD, trY, transform=None):\n",
    "        \"\"\"\n",
    "        Args:\n",
    "            images(list): images list.\n",
    "            labels(list): labels if images.\n",
    "            transform (callable, optional): Optional transform to be applied on a sample.\n",
    "        \"\"\"\n",
    "        self.trD = trD\n",
    "        self.transform = transform\n",
    "        self.length=trD.shape[0]\n",
    "        self.labels=trY\n",
    "    def __len__(self):\n",
    "        return self.length\n",
    "\n",
    "    def __getitem__(self, idx):\n",
    "        image = self.trD[idx]\n",
    "        if self.transform:\n",
    "            image = self.transform(image)\n",
    "        sample={'image':image,'Label':self.labels[idx], 'idx':idx}\n",
    "        return sample"
   ]
  },
  {
   "cell_type": "code",
   "execution_count": 896,
   "metadata": {},
   "outputs": [
    {
     "name": "stdout",
     "output_type": "stream",
     "text": [
      "torch.Size([3, 64, 64])\n",
      "0\n",
      "0\n",
      "torch.Size([3, 64, 64])\n",
      "1\n",
      "1\n",
      "torch.Size([3, 64, 64])\n",
      "1\n",
      "2\n",
      "torch.Size([3, 64, 64])\n",
      "1\n",
      "3\n",
      "torch.Size([3, 64, 64])\n",
      "1\n",
      "4\n"
     ]
    }
   ],
   "source": [
    "image_dataset = HappyDataset(trD, trY, transform=T.ToTensor())\n",
    "\n",
    "#iterating though the dataset\n",
    "for i in range(5):\n",
    "    sample=image_dataset[i]\n",
    "    print(sample['image'].shape)\n",
    "    print(sample['Label'])\n",
    "    print(sample['idx'])"
   ]
  },
  {
   "cell_type": "code",
   "execution_count": 897,
   "metadata": {},
   "outputs": [
    {
     "name": "stdout",
     "output_type": "stream",
     "text": [
      "(tensor([287, 366, 365, 599]), torch.Size([4, 3, 64, 64]), tensor([1, 1, 0, 0]))\n",
      "(tensor([580, 192, 144, 593]), torch.Size([4, 3, 64, 64]), tensor([0, 0, 1, 1]))\n",
      "(tensor([294, 527,  62, 578]), torch.Size([4, 3, 64, 64]), tensor([0, 0, 0, 1]))\n",
      "(tensor([422, 544, 269, 179]), torch.Size([4, 3, 64, 64]), tensor([1, 0, 0, 0]))\n",
      "(tensor([180, 562, 513,  70]), torch.Size([4, 3, 64, 64]), tensor([0, 1, 0, 1]))\n",
      "(tensor([ 92, 559, 355,  63]), torch.Size([4, 3, 64, 64]), tensor([0, 0, 1, 1]))\n",
      "(tensor([199,  22, 357, 107]), torch.Size([4, 3, 64, 64]), tensor([0, 1, 0, 0]))\n"
     ]
    }
   ],
   "source": [
    "image_dataloader = DataLoader(image_dataset, batch_size=4,\n",
    "                        shuffle=True, num_workers=4)\n",
    "\n",
    "\n",
    "for i,sample in enumerate(image_dataloader):\n",
    "    sample['image']=sample['image']\n",
    "    print(sample['idx'],sample['image'].shape, sample['Label'])\n",
    "    if i>5: \n",
    "        break"
   ]
  },
  {
   "cell_type": "code",
   "execution_count": 898,
   "metadata": {},
   "outputs": [],
   "source": [
    "my_batch_size = 15\n",
    "\n",
    "data_transforms = T.Compose([\n",
    "        T.ToPILImage(),\n",
    "        T.RandomHorizontalFlip(),\n",
    "        T.ToTensor()])\n",
    "\n",
    "\n",
    "# image_dataset_train = HappyDataset(trD, trY, transform=T.ToTensor())\n",
    "image_dataset_train = HappyDataset(trD, trY, transform=data_transforms)\n",
    "image_dataloader_train = DataLoader(image_dataset_train, batch_size=my_batch_size,\n",
    "                        shuffle=True, num_workers=4)\n",
    "\n",
    "image_dataset_val = HappyDataset(valD, valY, transform=T.ToTensor())\n",
    "image_dataloader_val = DataLoader(image_dataset_val, batch_size=my_batch_size,\n",
    "                        shuffle=True, num_workers=4)\n",
    "\n",
    "image_dataset_test = HappyDataset(tstD, tstY, transform=T.ToTensor())\n",
    "image_dataloader_test = DataLoader(image_dataset_test, batch_size=my_batch_size,\n",
    "                        shuffle=True, num_workers=4)\n"
   ]
  },
  {
   "cell_type": "code",
   "execution_count": 899,
   "metadata": {},
   "outputs": [
    {
     "data": {
      "image/png": "[encoded data removed]",
      "text/plain": [
       "<Figure size 432x288 with 1 Axes>"
      ]
     },
     "metadata": {
      "needs_background": "light"
     },
     "output_type": "display_data"
    },
    {
     "name": "stdout",
     "output_type": "stream",
     "text": [
      "smile\n"
     ]
    },
    {
     "data": {
      "image/png": "[encoded data removed]",
      "text/plain": [
       "<Figure size 432x288 with 1 Axes>"
      ]
     },
     "metadata": {
      "needs_background": "light"
     },
     "output_type": "display_data"
    },
    {
     "name": "stdout",
     "output_type": "stream",
     "text": [
      "smile\n"
     ]
    },
    {
     "data": {
      "image/png": "[encoded data removed]",
      "text/plain": [
       "<Figure size 432x288 with 1 Axes>"
      ]
     },
     "metadata": {
      "needs_background": "light"
     },
     "output_type": "display_data"
    },
    {
     "name": "stdout",
     "output_type": "stream",
     "text": [
      "smile\n"
     ]
    }
   ],
   "source": [
    "import matplotlib.pyplot as plt\n",
    "import torchvision\n",
    "\n",
    "classes = ('no-smile', 'smile')\n",
    "# functions to show an image\n",
    "\n",
    "def imshow(img):\n",
    "    plt.imshow(img)\n",
    "    plt.show()\n",
    "\n",
    "for i,sample in enumerate(image_dataloader_train):\n",
    "    sample['image']=sample['image']\n",
    "    for img in sample['image'][0]:\n",
    "        imshow(img)\n",
    "        print(classes[sample['Label'][0]])\n",
    "    break\n",
    "    \n",
    "\n"
   ]
  },
  {
   "cell_type": "code",
   "execution_count": 900,
   "metadata": {},
   "outputs": [],
   "source": [
    "dtype = torch.FloatTensor # the CPU datatype\n",
    "# Constant to control how frequently we print train loss\n",
    "# This is a little utility that we'll use to reset the model\n",
    "# if we want to re-initialize all our parameters\n",
    "def reset(m):\n",
    "    if hasattr(m, 'reset_parameters'):\n",
    "        m.reset_parameters()\n",
    "        \n",
    "class Flatten(nn.Module):\n",
    "    def forward(self, x):\n",
    "        N, C, H, W = x.size() # read in N, C, H, W\n",
    "        return x.view(N, -1)  # \"flatten\" the C * H * W values into a single vector per image"
   ]
  },
  {
   "cell_type": "code",
   "execution_count": 901,
   "metadata": {},
   "outputs": [],
   "source": [
    "from tqdm import tqdm\n",
    "\n",
    "def train(model, loss_fn, optimizer, dataloader, num_epochs = 1):\n",
    "    for epoch in tqdm(range(num_epochs)):\n",
    "#         print('Starting epoch %d / %d' % (epoch + 1, num_epochs))\n",
    "        model.train()\n",
    "        for t, sample in enumerate(dataloader):\n",
    "            x_var = Variable(sample['image'].cuda())\n",
    "            y_var = Variable(sample['Label'].cuda().long())\n",
    "\n",
    "            scores = model(x_var)\n",
    "            \n",
    "            loss = loss_fn(scores, y_var)\n",
    "            if (t + 1) % print_every == 0:\n",
    "                print('t = %d, loss = %.4f' % (t + 1, loss.item()))\n",
    "\n",
    "            optimizer.zero_grad()\n",
    "            loss.backward()\n",
    "            optimizer.step()\n",
    "\n",
    "def check_accuracy(model, loader):\n",
    "    '''\n",
    "    if loader.dataset.train:\n",
    "        print('Checking accuracy on validation set')\n",
    "    else:\n",
    "        print('Checking accuracy on test set')  \n",
    "    '''\n",
    "    num_correct = 0\n",
    "    num_samples = 0\n",
    "    model.eval() # Put the model in test mode (the opposite of model.train(), essentially)\n",
    "    for t, sample in enumerate(loader):\n",
    "        x_var = Variable(sample['image'].cuda())\n",
    "        y_var = sample['Label'].cuda()\n",
    "        y_var=y_var.cpu()\n",
    "        scores = model(x_var)\n",
    "        _, preds = scores.data.cpu().max(1)\n",
    "        #print(preds)\n",
    "        #print(y_var)\n",
    "        num_correct += (preds.numpy() == y_var.numpy()).sum()\n",
    "        num_samples += preds.size(0)\n",
    "    acc = float(num_correct) / num_samples\n",
    "    print('Got %d / %d correct (%.2f)' % (num_correct, num_samples, 100 * acc))\n",
    "    return acc"
   ]
  },
  {
   "cell_type": "code",
   "execution_count": 902,
   "metadata": {},
   "outputs": [],
   "source": [
    "\n",
    "def init_model():\n",
    "    gpu_dtype = torch.cuda.FloatTensor\n",
    "\n",
    "    first_layer = 128\n",
    "    second_layer = 256\n",
    "    third_layer = 64\n",
    "\n",
    "    # first_layer = 256\n",
    "    # second_layer = 512\n",
    "    # third_layer = 64\n",
    "\n",
    "    # Here's where we define the architecture of the model... \n",
    "    # model 3*64*64\n",
    "    # 3 clips of same person and labels\n",
    "    model = nn.Sequential(\n",
    "                    nn.Conv2d(3, first_layer, kernel_size=3, stride=1), #62\n",
    "                    nn.BatchNorm2d(first_layer),\n",
    "                    nn.ReLU(inplace=True),\n",
    "                    nn.MaxPool2d(kernel_size=2, stride=2), #31\n",
    "\n",
    "                    nn.Conv2d(first_layer, second_layer, kernel_size=2, stride=1), #28\n",
    "                    nn.BatchNorm2d(second_layer),\n",
    "                    nn.ReLU(inplace=True),\n",
    "                    nn.Dropout2d(0.25),\n",
    "                    nn.MaxPool2d(kernel_size=2, stride=2), #14\n",
    "\n",
    "                    nn.Conv2d(second_layer, third_layer, kernel_size=3, stride=1), #11\n",
    "                    nn.BatchNorm2d(third_layer),\n",
    "                    nn.ReLU(inplace=True),\n",
    "                    nn.Dropout2d(0.4),\n",
    "                    nn.MaxPool2d(kernel_size=2, stride=2), #6*6*64 = 2306/36 * 36\n",
    "\n",
    "                    Flatten(),\n",
    "                    nn.ReLU(inplace=True),\n",
    "                    nn.Linear(6*6*third_layer, 256),\n",
    "                    nn.Linear(256, 2),\n",
    "                    nn.Softmax()\n",
    "                  )\n",
    "\n",
    "    # Set the type of all data in this model to be FloatTensor \n",
    "    model.type(gpu_dtype)\n",
    "    model.cuda()\n",
    "    return model\n",
    "\n",
    "model = init_model()"
   ]
  },
  {
   "cell_type": "code",
   "execution_count": 903,
   "metadata": {},
   "outputs": [
    {
     "name": "stdout",
     "output_type": "stream",
     "text": [
      "[15  2]\n"
     ]
    },
    {
     "data": {
      "text/plain": [
       "True"
      ]
     },
     "execution_count": 903,
     "metadata": {},
     "output_type": "execute_result"
    }
   ],
   "source": [
    "## Now we're going to feed a random batch into the model you defined and make sure the output is the right size\n",
    "x = torch.randn(my_batch_size, 3, 64, 64).type(gpu_dtype)\n",
    "x_var = Variable(x.type(gpu_dtype)) # Construct a PyTorch Variable out of your input data\n",
    "ans = model(x_var)        # Feed it through the model! \n",
    "\n",
    "# Check to make sure what comes out of your model\n",
    "# is the right dimensionality... this should be True\n",
    "# if you've done everything correctly\n",
    "print(np.array(ans.size()))\n",
    "np.array_equal(np.array(ans.size()), np.array([my_batch_size, 2]))"
   ]
  },
  {
   "cell_type": "code",
   "execution_count": 904,
   "metadata": {},
   "outputs": [],
   "source": [
    "loss_fn = nn.CrossEntropyLoss().cuda()\n",
    "optimizer = optim.RMSprop(model.parameters(), lr=1e-4, weight_decay=1e-3)\n"
   ]
  },
  {
   "cell_type": "code",
   "execution_count": 905,
   "metadata": {},
   "outputs": [
    {
     "name": "stderr",
     "output_type": "stream",
     "text": [
      "100%|██████████| 35/35 [00:17<00:00,  2.08it/s]\n"
     ]
    }
   ],
   "source": [
    "print_every = 100\n",
    "train(model, loss_fn, optimizer, image_dataloader_train, num_epochs=35)"
   ]
  },
  {
   "cell_type": "code",
   "execution_count": 906,
   "metadata": {},
   "outputs": [
    {
     "name": "stdout",
     "output_type": "stream",
     "text": [
      "Got 599 / 600 correct (99.83)\n",
      "Got 60 / 60 correct (100.00)\n"
     ]
    },
    {
     "data": {
      "text/plain": [
       "1.0"
      ]
     },
     "execution_count": 906,
     "metadata": {},
     "output_type": "execute_result"
    }
   ],
   "source": [
    "check_accuracy(model, image_dataloader_train)# check accuracy on the training set\n",
    "check_accuracy(model, image_dataloader_val)# check accuracy on the training set"
   ]
  },
  {
   "cell_type": "code",
   "execution_count": 907,
   "metadata": {},
   "outputs": [
    {
     "name": "stdout",
     "output_type": "stream",
     "text": [
      "Got 147 / 150 correct (98.00)\n"
     ]
    },
    {
     "data": {
      "text/plain": [
       "0.98"
      ]
     },
     "execution_count": 907,
     "metadata": {},
     "output_type": "execute_result"
    }
   ],
   "source": [
    "check_accuracy(model, image_dataloader_test)# check accuracy on the training set"
   ]
  },
  {
   "cell_type": "code",
   "execution_count": null,
   "metadata": {},
   "outputs": [],
   "source": []
  }
 ],
 "metadata": {
  "kernelspec": {
   "display_name": "Python 2",
   "language": "python",
   "name": "python2"
  },
  "language_info": {
   "codemirror_mode": {
    "name": "ipython",
    "version": 2
   },
   "file_extension": ".py",
   "mimetype": "text/x-python",
   "name": "python",
   "nbconvert_exporter": "python",
   "pygments_lexer": "ipython2",
   "version": "2.7.14"
  }
 },
 "nbformat": 4,
 "nbformat_minor": 2
}
